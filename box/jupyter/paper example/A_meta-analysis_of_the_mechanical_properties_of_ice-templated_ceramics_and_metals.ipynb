{
 "cells": [
  {
   "cell_type": "markdown",
   "metadata": {},
   "source": [
    "# A meta-analysis of the mechanical properties of ice-templated ceramics and metals\n",
    "\n",
    "Welcome to the notebook accompanying this paper: \"A meta-analysis of the mechanical properties of ice-templated ceramics and metals\", published in *Science and Technology of Advanced Materials* (link coming as soon as the paper is available online).\n",
    "\n",
    "Follow through the notebook to generate the plots published in the paper. You need to have *Matplotlib*, *Numpy*, and *Pandas* installed. If you are not familiar with the IPython notebook format, start here: <http://ipython.org/index.html>\n",
    "\n",
    "Your files and directories should be organized as follow, in your working directory:\n",
    "\n",
    "* *code*: contains this IPython notebook\n",
    "* *figures*: where all figures will be saved\n",
    "* *data*: where the CSV files should be. There are two sets of data: \n",
    "    * The data compiled from the literature review on ice templating (*icetemplating.csv*). \n",
    "    * The data corresponding to the properties of cellular ceramics (*studart.csv*), and compiled in this paper: Studart, A. R., Gonzenbach, U. T., Tervoort, E., & Gauckler, L. J. (2006). Processing Routes to Macroporous Ceramics: A Review. Journal of the American Ceramic Society, 89(6), 1771–1789. doi:10.1111/j.1551-2916.2006.01044.x The paper can be found here <http://www.blackwell-synergy.com/doi/abs/10.1111/j.1551-2916.2006.01044.x> (paywall)\n",
    "\n",
    "    You can download these sets of data from Figshare here: <http://dx.doi.org/10.6084/m9.figshare.1412626>\n",
    "\n",
    "-May, 2015. Sylvain Deville, Sylvain Meille, Jordi Seuba\n",
    "\n",
    "Email to <sylvaindeville@gmail.com> or tweet to <http://twitter.com/DevilleSy> if you have any questions or comments, or just want to say hi!"
   ]
  },
  {
   "cell_type": "code",
   "execution_count": 1,
   "metadata": {
    "collapsed": false,
    "slideshow": {
     "slide_type": "slide"
    }
   },
   "outputs": [],
   "source": [
    "import pandas as pd\n",
    "import matplotlib.pyplot as plt\n",
    "from numpy import linspace\n",
    "from matplotlib import rc #for latex use on the plots\n",
    "from matplotlib.ticker import MultipleLocator, FormatStrFormatter # for labels formattings\n",
    "%matplotlib inline"
   ]
  },
  {
   "cell_type": "code",
   "execution_count": 2,
   "metadata": {
    "collapsed": false,
    "slideshow": {
     "slide_type": "slide"
    }
   },
   "outputs": [
    {
     "ename": "ValueError",
     "evalue": "Key savefig.dpi: \"figurefigure\" is not string \"figure\" or could not convert \"figurefigure\" to float",
     "output_type": "error",
     "traceback": [
      "\u001b[0;31m---------------------------------------------------------------------------\u001b[0m",
      "\u001b[0;31mValueError\u001b[0m                                Traceback (most recent call last)",
      "\u001b[0;32m/home/dtn-012345/miniconda3/lib/python3.6/site-packages/matplotlib/rcsetup.py\u001b[0m in \u001b[0;36mvalidate_dpi\u001b[0;34m(s)\u001b[0m\n\u001b[1;32m    206\u001b[0m     \u001b[0;32mtry\u001b[0m\u001b[0;34m:\u001b[0m\u001b[0;34m\u001b[0m\u001b[0m\n\u001b[0;32m--> 207\u001b[0;31m         \u001b[0;32mreturn\u001b[0m \u001b[0mfloat\u001b[0m\u001b[0;34m(\u001b[0m\u001b[0ms\u001b[0m\u001b[0;34m)\u001b[0m\u001b[0;34m\u001b[0m\u001b[0m\n\u001b[0m\u001b[1;32m    208\u001b[0m     \u001b[0;32mexcept\u001b[0m \u001b[0mValueError\u001b[0m\u001b[0;34m:\u001b[0m\u001b[0;34m\u001b[0m\u001b[0m\n",
      "\u001b[0;31mValueError\u001b[0m: could not convert string to float: 'figurefigure'",
      "\nDuring handling of the above exception, another exception occurred:\n",
      "\u001b[0;31mValueError\u001b[0m                                Traceback (most recent call last)",
      "\u001b[0;32m/home/dtn-012345/miniconda3/lib/python3.6/site-packages/matplotlib/__init__.py\u001b[0m in \u001b[0;36m__setitem__\u001b[0;34m(self, key, val)\u001b[0m\n\u001b[1;32m    925\u001b[0m             \u001b[0;32mtry\u001b[0m\u001b[0;34m:\u001b[0m\u001b[0;34m\u001b[0m\u001b[0m\n\u001b[0;32m--> 926\u001b[0;31m                 \u001b[0mcval\u001b[0m \u001b[0;34m=\u001b[0m \u001b[0mself\u001b[0m\u001b[0;34m.\u001b[0m\u001b[0mvalidate\u001b[0m\u001b[0;34m[\u001b[0m\u001b[0mkey\u001b[0m\u001b[0;34m]\u001b[0m\u001b[0;34m(\u001b[0m\u001b[0mval\u001b[0m\u001b[0;34m)\u001b[0m\u001b[0;34m\u001b[0m\u001b[0m\n\u001b[0m\u001b[1;32m    927\u001b[0m             \u001b[0;32mexcept\u001b[0m \u001b[0mValueError\u001b[0m \u001b[0;32mas\u001b[0m \u001b[0mve\u001b[0m\u001b[0;34m:\u001b[0m\u001b[0;34m\u001b[0m\u001b[0m\n",
      "\u001b[0;32m/home/dtn-012345/miniconda3/lib/python3.6/site-packages/matplotlib/rcsetup.py\u001b[0m in \u001b[0;36mvalidate_dpi\u001b[0;34m(s)\u001b[0m\n\u001b[1;32m    209\u001b[0m         raise ValueError('\"%s\" is not string \"figure\" or'\n\u001b[0;32m--> 210\u001b[0;31m             ' could not convert \"%s\" to float' % (s, s))\n\u001b[0m\u001b[1;32m    211\u001b[0m \u001b[0;34m\u001b[0m\u001b[0m\n",
      "\u001b[0;31mValueError\u001b[0m: \"figurefigure\" is not string \"figure\" or could not convert \"figurefigure\" to float",
      "\nDuring handling of the above exception, another exception occurred:\n",
      "\u001b[0;31mValueError\u001b[0m                                Traceback (most recent call last)",
      "\u001b[0;32m<ipython-input-2-78d040257c24>\u001b[0m in \u001b[0;36m<module>\u001b[0;34m()\u001b[0m\n\u001b[1;32m     40\u001b[0m     \u001b[0mplt\u001b[0m\u001b[0;34m.\u001b[0m\u001b[0mrcParams\u001b[0m\u001b[0;34m[\u001b[0m\u001b[0;34m'xtick.minor.width'\u001b[0m\u001b[0;34m]\u001b[0m\u001b[0;34m=\u001b[0m \u001b[0mperso_linewidth\u001b[0m\u001b[0;34m\u001b[0m\u001b[0m\n\u001b[1;32m     41\u001b[0m \u001b[0;34m\u001b[0m\u001b[0m\n\u001b[0;32m---> 42\u001b[0;31m \u001b[0minit_plotting\u001b[0m\u001b[0;34m(\u001b[0m\u001b[0;34m)\u001b[0m\u001b[0;34m\u001b[0m\u001b[0m\n\u001b[0m\u001b[1;32m     43\u001b[0m \u001b[0;34m\u001b[0m\u001b[0m\n\u001b[1;32m     44\u001b[0m \u001b[0mplt\u001b[0m\u001b[0;34m.\u001b[0m\u001b[0mclose\u001b[0m\u001b[0;34m(\u001b[0m\u001b[0;34m)\u001b[0m \u001b[0;31m# this line to avoid an empty plot showing up\u001b[0m\u001b[0;34m\u001b[0m\u001b[0m\n",
      "\u001b[0;32m<ipython-input-2-78d040257c24>\u001b[0m in \u001b[0;36minit_plotting\u001b[0;34m()\u001b[0m\n\u001b[1;32m     10\u001b[0m     \u001b[0mplt\u001b[0m\u001b[0;34m.\u001b[0m\u001b[0mrcParams\u001b[0m\u001b[0;34m[\u001b[0m\u001b[0;34m'xtick.labelsize'\u001b[0m\u001b[0;34m]\u001b[0m \u001b[0;34m=\u001b[0m \u001b[0mplt\u001b[0m\u001b[0;34m.\u001b[0m\u001b[0mrcParams\u001b[0m\u001b[0;34m[\u001b[0m\u001b[0;34m'font.size'\u001b[0m\u001b[0;34m]\u001b[0m\u001b[0;34m\u001b[0m\u001b[0m\n\u001b[1;32m     11\u001b[0m     \u001b[0mplt\u001b[0m\u001b[0;34m.\u001b[0m\u001b[0mrcParams\u001b[0m\u001b[0;34m[\u001b[0m\u001b[0;34m'ytick.labelsize'\u001b[0m\u001b[0;34m]\u001b[0m \u001b[0;34m=\u001b[0m \u001b[0mplt\u001b[0m\u001b[0;34m.\u001b[0m\u001b[0mrcParams\u001b[0m\u001b[0;34m[\u001b[0m\u001b[0;34m'font.size'\u001b[0m\u001b[0;34m]\u001b[0m\u001b[0;34m\u001b[0m\u001b[0m\n\u001b[0;32m---> 12\u001b[0;31m     \u001b[0mplt\u001b[0m\u001b[0;34m.\u001b[0m\u001b[0mrcParams\u001b[0m\u001b[0;34m[\u001b[0m\u001b[0;34m'savefig.dpi'\u001b[0m\u001b[0;34m]\u001b[0m \u001b[0;34m=\u001b[0m \u001b[0;36m2\u001b[0m\u001b[0;34m*\u001b[0m\u001b[0mplt\u001b[0m\u001b[0;34m.\u001b[0m\u001b[0mrcParams\u001b[0m\u001b[0;34m[\u001b[0m\u001b[0;34m'savefig.dpi'\u001b[0m\u001b[0;34m]\u001b[0m\u001b[0;34m\u001b[0m\u001b[0m\n\u001b[0m\u001b[1;32m     13\u001b[0m     \u001b[0mplt\u001b[0m\u001b[0;34m.\u001b[0m\u001b[0mrcParams\u001b[0m\u001b[0;34m[\u001b[0m\u001b[0;34m'axes.linewidth'\u001b[0m\u001b[0;34m]\u001b[0m \u001b[0;34m=\u001b[0m \u001b[0mperso_linewidth\u001b[0m\u001b[0;34m\u001b[0m\u001b[0m\n\u001b[1;32m     14\u001b[0m     \u001b[0mplt\u001b[0m\u001b[0;34m.\u001b[0m\u001b[0mrcParams\u001b[0m\u001b[0;34m[\u001b[0m\u001b[0;34m'savefig.dpi'\u001b[0m\u001b[0;34m]\u001b[0m \u001b[0;34m=\u001b[0m \u001b[0;34m'300'\u001b[0m\u001b[0;34m\u001b[0m\u001b[0m\n",
      "\u001b[0;32m/home/dtn-012345/miniconda3/lib/python3.6/site-packages/matplotlib/__init__.py\u001b[0m in \u001b[0;36m__setitem__\u001b[0;34m(self, key, val)\u001b[0m\n\u001b[1;32m    926\u001b[0m                 \u001b[0mcval\u001b[0m \u001b[0;34m=\u001b[0m \u001b[0mself\u001b[0m\u001b[0;34m.\u001b[0m\u001b[0mvalidate\u001b[0m\u001b[0;34m[\u001b[0m\u001b[0mkey\u001b[0m\u001b[0;34m]\u001b[0m\u001b[0;34m(\u001b[0m\u001b[0mval\u001b[0m\u001b[0;34m)\u001b[0m\u001b[0;34m\u001b[0m\u001b[0m\n\u001b[1;32m    927\u001b[0m             \u001b[0;32mexcept\u001b[0m \u001b[0mValueError\u001b[0m \u001b[0;32mas\u001b[0m \u001b[0mve\u001b[0m\u001b[0;34m:\u001b[0m\u001b[0;34m\u001b[0m\u001b[0m\n\u001b[0;32m--> 928\u001b[0;31m                 \u001b[0;32mraise\u001b[0m \u001b[0mValueError\u001b[0m\u001b[0;34m(\u001b[0m\u001b[0;34m\"Key %s: %s\"\u001b[0m \u001b[0;34m%\u001b[0m \u001b[0;34m(\u001b[0m\u001b[0mkey\u001b[0m\u001b[0;34m,\u001b[0m \u001b[0mstr\u001b[0m\u001b[0;34m(\u001b[0m\u001b[0mve\u001b[0m\u001b[0;34m)\u001b[0m\u001b[0;34m)\u001b[0m\u001b[0;34m)\u001b[0m\u001b[0;34m\u001b[0m\u001b[0m\n\u001b[0m\u001b[1;32m    929\u001b[0m             \u001b[0mdict\u001b[0m\u001b[0;34m.\u001b[0m\u001b[0m__setitem__\u001b[0m\u001b[0;34m(\u001b[0m\u001b[0mself\u001b[0m\u001b[0;34m,\u001b[0m \u001b[0mkey\u001b[0m\u001b[0;34m,\u001b[0m \u001b[0mcval\u001b[0m\u001b[0;34m)\u001b[0m\u001b[0;34m\u001b[0m\u001b[0m\n\u001b[1;32m    930\u001b[0m         \u001b[0;32mexcept\u001b[0m \u001b[0mKeyError\u001b[0m\u001b[0;34m:\u001b[0m\u001b[0;34m\u001b[0m\u001b[0m\n",
      "\u001b[0;31mValueError\u001b[0m: Key savefig.dpi: \"figurefigure\" is not string \"figure\" or could not convert \"figurefigure\" to float"
     ]
    }
   ],
   "source": [
    "perso_linewidth = 0.3\n",
    "# This will change your default rcParams\n",
    "def init_plotting():\n",
    "    plt.rcParams['figure.figsize'] = (3,3)\n",
    "    plt.rcParams['font.size'] = 8\n",
    "    plt.rcParams['font.family'] = 'serif'\n",
    "    plt.rcParams['axes.labelsize'] = plt.rcParams['font.size']\n",
    "    plt.rcParams['axes.titlesize'] = 1.5*plt.rcParams['font.size']\n",
    "    plt.rcParams['legend.fontsize'] = plt.rcParams['font.size']\n",
    "    plt.rcParams['xtick.labelsize'] = plt.rcParams['font.size']\n",
    "    plt.rcParams['ytick.labelsize'] = plt.rcParams['font.size']\n",
    "    plt.rcParams['savefig.dpi'] = 2*plt.rcParams['savefig.dpi']\n",
    "    plt.rcParams['axes.linewidth'] = perso_linewidth\n",
    "    plt.rcParams['savefig.dpi'] = '300'\n",
    "    plt.rcParams['axes.facecolor'] = 'white'\n",
    "    plt.rcParams['axes.edgecolor'] = '0'\n",
    "    plt.rcParams['axes.grid'] = False\n",
    "    plt.rcParams['grid.color']='white'\n",
    "    plt.rcParams['grid.linestyle'] = '-'\n",
    "    plt.rcParams['grid.linewidth'] = '0.1'\n",
    "    plt.rcParams['axes.axisbelow'] = True\n",
    "    plt.rcParams['lines.markersize']= 2.3 \n",
    "    plt.rcParams['lines.markeredgewidth']= '0.1'\n",
    "    plt.rcParams['lines.color']= 'r' \n",
    "    plt.rcParams['lines.marker']= 'o' \n",
    "    plt.rcParams['lines.linestyle']= '' \n",
    "    plt.rcParams['xtick.color']= '0'\n",
    "    plt.rcParams['ytick.color']= '0'\n",
    "    plt.rcParams['axes.color_cycle']= ['#3778bf', '#feb308', '#a8a495', '#7bb274', '#825f87']\n",
    "    plt.gca().spines['right'].set_color('none')\n",
    "    plt.gca().spines['right'].set_visible('False')\n",
    "    plt.gca().spines['top'].set_visible('False')\n",
    "    plt.gca().spines['top'].set_color('none')\n",
    "    plt.gca().xaxis.set_ticks_position('bottom')\n",
    "    plt.gca().yaxis.set_ticks_position('left')\n",
    "    plt.rcParams['ytick.minor.size']= 1.5\n",
    "    plt.rcParams['ytick.major.width']= perso_linewidth\n",
    "    plt.rcParams['ytick.minor.width']= perso_linewidth\n",
    "    plt.rcParams['xtick.major.width']= perso_linewidth\n",
    "    plt.rcParams['xtick.minor.width']= perso_linewidth\n",
    "\n",
    "init_plotting()\n",
    "\n",
    "plt.close() # this line to avoid an empty plot showing up"
   ]
  },
  {
   "cell_type": "code",
   "execution_count": null,
   "metadata": {
    "collapsed": false,
    "slideshow": {
     "slide_type": "slide"
    }
   },
   "outputs": [],
   "source": [
    "# function to list the bib key of papers used in the plots\n",
    "# The output is formatted to be used directly in Markdown. Pandoc can take care of the reference list from here.\n",
    "def list_authors(data):\n",
    "    authors = data.dropna()\n",
    "    authors = authors.drop_duplicates()\n",
    "    authors.tolist()\n",
    "    print str(len(authors)) + \" papers\"\n",
    "    print '@'+'; @'.join(authors)"
   ]
  },
  {
   "cell_type": "code",
   "execution_count": null,
   "metadata": {
    "collapsed": false
   },
   "outputs": [],
   "source": [
    "# common formatting for the plots, not passed as rcParams\n",
    "figuresize = 3\n",
    "titlefontsize = 8\n",
    "titleweight = 'bold'\n",
    "\n",
    "rc('font', **{'family':'serif', 'serif':['Palatino']})\n",
    "rc('text', usetex=True)"
   ]
  },
  {
   "cell_type": "markdown",
   "metadata": {},
   "source": [
    "# Mechanical models used to predict the compressive strength\n",
    "\n",
    "## Closed cells\n",
    "$$\\sigma=\\sigma_{p}\\left(C_6\\left(\\phi\\frac{\\rho^*}{\\rho_s}\\right)+C_{6}^{''}\\left(1-\\phi\\right)\\frac{\\rho^*}{\\rho_s}\\right) \\text{  (eq. 1)}$$ \n",
    "with $C_6=0.65$ and $C_6^\"=1$, and where $\\phi$ is the solid fraction in the edges, $\\rho_s$ and $\\rho^*$ the apparent density of the dense and cellular material respectively, and $\\sigma_p$ the modulus of rupture of the solid cell wall material.\n",
    "\n",
    "## Open cell, brittle crushing model\n",
    "$$\\sigma=\\sigma_{p}C_4\\left(\\frac{\\rho^*}{\\rho_s}\\right)^{3/2}\\text{  (eq. 2)}$$ \n",
    "with $C_4=0.2$, and where $\\sigma_{p}$ is the modulus of rupture of the solid cell wall material, and $\\rho_s$ and $\\rho^*$ the apparent density of the dense and cellular material respectively.\n",
    "\n",
    "## Honeycomb, out of plane\n",
    "$$\\sigma=6 E_s \\left(\\frac{\\rho^*}{\\rho_s}\\right)^3 \\text{  (eq. 3)}$$\n",
    "where $E_s$ the Young's modulus of the corresponding dense material, and $\\rho_s$ and $\\rho^*$ the apparent density of the dense and cellular material respectively."
   ]
  },
  {
   "cell_type": "code",
   "execution_count": null,
   "metadata": {
    "collapsed": false
   },
   "outputs": [],
   "source": [
    "# Parameters of the Ashby model\n",
    "phi_edges = 0\n",
    "C2 = 0.2\n",
    "C6 = 0.65\n",
    "C6s = 1\n",
    "\n",
    "# data for the upper bound value of compressive strength vs porosity\n",
    "relative_density_table = linspace(0.0, 1.0, num=1000)\n",
    "relative_porosity = [(1-i)*100 for i in relative_density_table]\n",
    "\n",
    "# open cells model:\n",
    "brit_crush_str = [C2*i**(1.5) for i in relative_density_table]\n",
    "\n",
    "# closed cells models:\n",
    "closedcell_str = [C6*phi_edges*i +C6s*(1-phi_edges)*i for i in relative_density_table]\n",
    "\n",
    "# functions used to plot the prediction of the models on the plots\n",
    "def plot_upper_limit():\n",
    "        plt.plot(relative_porosity, brit_crush_str, linestyle=':', linewidth='0.5', marker='', dashes=[2, 2], color='0.5', zorder=1, dash_capstyle='round')\n",
    "        plt.plot(relative_porosity, closedcell_str, linestyle=':', linewidth='0.5', marker='', dashes=[2, 2], color='0.5', zorder=1, dash_capstyle='round')\n",
    "        \n",
    "def plot_upper_limit_log():\n",
    "        plt.plot(relative_density_table, brit_crush_str, linestyle=':', linewidth='0.5', marker='', dashes=[2, 2], color='0.5', zorder=1, dash_capstyle='round')\n",
    "        plt.plot(relative_density_table, closedcell_str, linestyle=':', linewidth='0.5', marker='', dashes=[2, 2], color='0.5', zorder=1, dash_capstyle='round')        \n",
    "\n",
    "strength_table = linspace(0.1, 1000.0, num=10000)\n",
    "        \n",
    "def plot_upper_limit_honeycomb():\n",
    "        plt.plot(strength_table, strength_table, linestyle='--', linewidth='0.5', marker='', dashes=[2, 2], color='0.5', zorder=1, dash_capstyle='round', markevery='2')    \n"
   ]
  },
  {
   "cell_type": "markdown",
   "metadata": {},
   "source": [
    "# Load the data"
   ]
  },
  {
   "cell_type": "code",
   "execution_count": null,
   "metadata": {
    "collapsed": false
   },
   "outputs": [],
   "source": [
    "data = pd.io.parsers.read_csv('../data/icetemplating.csv', sep=';', decimal=',')\n",
    "foams = pd.io.parsers.read_csv('../data/studart.csv', sep=';', decimal=',')"
   ]
  },
  {
   "cell_type": "markdown",
   "metadata": {},
   "source": [
    "# Create a few subsets of data"
   ]
  },
  {
   "cell_type": "code",
   "execution_count": null,
   "metadata": {
    "collapsed": false
   },
   "outputs": [],
   "source": [
    "water = data[(data['Solvant'] == 'water') & (data['green body ?'] < 1)]\n",
    "camphene = data[(data['Solvant'] == 'camphene')]\n",
    "tba = data[(data['Solvant'] == 'TBA')]\n",
    "\n",
    "cellular = data[(data['failure mode'] == 'cellular')]\n",
    "brittle = data[(data['failure mode'] == 'brittle')]\n",
    "failureunknown = data[(data['failure mode'] == '?')]\n",
    "\n",
    "defects = data[(data['Defects'] == 'yes')]\n",
    "nodefects = data[(data['Defects'] == 'no')]\n",
    "notsureifdefects = data[(data['Defects'] == '?')]\n",
    "\n",
    "withparticlesize = data[(data['Granulo poudre'] > 0)]"
   ]
  },
  {
   "cell_type": "markdown",
   "metadata": {},
   "source": [
    "# Porosity vs. solid loading, for the three most commonly used solvents\n",
    "Figure 3 of the paper"
   ]
  },
  {
   "cell_type": "code",
   "execution_count": null,
   "metadata": {
    "collapsed": false
   },
   "outputs": [],
   "source": [
    "fig = plt.figure(figsize = (3*figuresize, figuresize))\n",
    "\n",
    "ax = fig.add_subplot(1,3,1)\n",
    "plt.plot(water['Solid Loading'], water['Porosity'])\n",
    "ax.set_xlabel('Solid Loading (vol.\\%)')\n",
    "ax.set_ylabel('Porosity (\\%)')\n",
    "plt.title('Water', fontsize=titlefontsize, weight=titleweight)\n",
    "plt.xlim(0,65)\n",
    "plt.ylim(0,100)\n",
    "\n",
    "ax = fig.add_subplot(1,3,2)\n",
    "plt.plot(camphene['Solid Loading'], camphene['Porosity'])\n",
    "ax.set_xlabel('Solid Loading (vol.\\%)')\n",
    "plt.xlim(0,65)\n",
    "plt.ylim(0,100)\n",
    "ax.set_yticklabels([])\n",
    "plt.title('Camphene', fontsize=titlefontsize, weight=titleweight)\n",
    "\n",
    "ax = fig.add_subplot(1,3,3)\n",
    "plt.plot(tba['Solid Loading'], tba['Porosity'])\n",
    "ax.set_xlabel('Solid Loading (vol.\\%)')\n",
    "plt.xlim(0,65)\n",
    "plt.ylim(0,100)\n",
    "ax.set_yticklabels([])\n",
    "plt.title('TBA', fontsize=titlefontsize, weight=titleweight)\n",
    "\n",
    "plt.tight_layout()\n",
    "fig.savefig('../figures/figure3.png')"
   ]
  },
  {
   "cell_type": "markdown",
   "metadata": {},
   "source": [
    "# Range of pore size achieved for the three most commonly used solvents\n",
    "Figure 4 of the paper"
   ]
  },
  {
   "cell_type": "code",
   "execution_count": null,
   "metadata": {
    "collapsed": false
   },
   "outputs": [],
   "source": [
    "#extract the data with a pore value\n",
    "water_porewidth = water[(water['Pore width'] > 0)]\n",
    "camphene_porewidth = camphene[(camphene['Pore width'] > 0)]\n",
    "tba_porewidth = tba[(tba['Pore width'] > 0)]\n",
    "\n",
    "water_porewidth = water['Pore width'].tolist()\n",
    "camphene_porewidth = camphene['Pore width'].tolist()\n",
    "tba_porewidth = tba['Pore width'].tolist()\n",
    "\n",
    "# remove duplicate values\n",
    "water_porewidth = list(set(water_porewidth))\n",
    "camphene_porewidth = list(set(camphene_porewidth))\n",
    "tba_porewidth = list(set(tba_porewidth))\n",
    "\n",
    "# remove NaN and sort list\n",
    "water_porewidth = [x for x in water_porewidth if x>0]\n",
    "water_porewidth.sort()\n",
    "\n",
    "camphene_porewidth = [x for x in camphene_porewidth if x>0]\n",
    "camphene_porewidth.sort()\n",
    "\n",
    "tba_porewidth = [x for x in tba_porewidth if x>0]\n",
    "tba_porewidth.sort()\n",
    "\n",
    "# Figure \n",
    "fig = plt.figure(figsize=(figuresize, 0.75*figuresize))\n",
    "ax1 = fig.add_subplot(131)\n",
    "ax1.plot(water_porewidth)\n",
    "ax1.set_yscale('log')\n",
    "ax1.set_ylabel('Pore size (\\mu m)')\n",
    "rectangle = plt.Rectangle((-1, min(water_porewidth)), len(water_porewidth)+1, max(water_porewidth)-min(water_porewidth), color='0.9', zorder=0)\n",
    "plt.gca().add_patch(rectangle)\n",
    "plt.ylim(0,500)\n",
    "plt.xlim(-1,len(water_porewidth))\n",
    "plt.title('Water', fontsize=titlefontsize)\n",
    "plt.gca().xaxis.set_major_locator(plt.NullLocator())\n",
    "\n",
    "ax2 = fig.add_subplot(132, sharey=ax1)\n",
    "ax2.plot(camphene_porewidth)\n",
    "ax2.ticklabel_format(axis='both', visible=False)\n",
    "plt.setp(ax2.get_xticklabels(), visible=False)\n",
    "plt.setp(ax2.get_yticklabels(), visible=False)\n",
    "rectangle = plt.Rectangle((-1, min(camphene_porewidth)), len(camphene_porewidth)+1, max(camphene_porewidth)-min(camphene_porewidth), color='0.9', zorder=0)\n",
    "plt.gca().add_patch(rectangle)\n",
    "plt.ylim(0,500)\n",
    "plt.xlim(-1,len(camphene_porewidth))\n",
    "plt.title('Camphene', fontsize=titlefontsize)\n",
    "plt.gca().xaxis.set_major_locator(plt.NullLocator())\n",
    "\n",
    "ax3 = fig.add_subplot(133, sharey=ax1)\n",
    "ax3.plot(tba_porewidth)\n",
    "ax3.ticklabel_format(visible=False)\n",
    "plt.setp(ax3.get_xticklabels(), visible=False)\n",
    "plt.setp(ax3.get_yticklabels(), visible=False)\n",
    "rectangle = plt.Rectangle((-1, min(tba_porewidth)), len(tba_porewidth)+1, max(tba_porewidth)-min(tba_porewidth), color='0.9', zorder=0)\n",
    "plt.gca().add_patch(rectangle)\n",
    "plt.ylim(1,1000)\n",
    "plt.xlim(-1,len(tba_porewidth))\n",
    "plt.title('TBA', fontsize=titlefontsize)\n",
    "plt.tight_layout()\n",
    "fig.subplots_adjust(wspace=0)\n",
    "plt.gca().xaxis.set_major_locator(plt.NullLocator())\n",
    "\n",
    "fig.savefig('../figures/figure4.png')"
   ]
  },
  {
   "cell_type": "markdown",
   "metadata": {},
   "source": [
    "# Pore size vs. total porosity content, all solvents\n",
    "Figure 5 of the paper"
   ]
  },
  {
   "cell_type": "code",
   "execution_count": null,
   "metadata": {
    "collapsed": false
   },
   "outputs": [],
   "source": [
    "fig = plt.figure()\n",
    "ax = fig.add_subplot(1,1,1)\n",
    "plt.plot(data['Porosity'], data['Pore width'])\n",
    "ax.set_ylabel('Pore size (\\mu m)')\n",
    "ax.set_xlabel('Porosity (\\%)')\n",
    "#ax.set_yscale('log')\n",
    "plt.ylim(-10, 520)\n",
    "plt.xlim(15, 100)\n",
    "plt.tight_layout()\n",
    "fig.savefig('../figures/figure5.png')"
   ]
  },
  {
   "cell_type": "markdown",
   "metadata": {},
   "source": [
    "# Overview of the compressive strength achieved\n",
    "Figure 6 of the paper"
   ]
  },
  {
   "cell_type": "code",
   "execution_count": null,
   "metadata": {
    "collapsed": false
   },
   "outputs": [],
   "source": [
    "from scipy.optimize import curve_fit\n",
    "\n",
    "# function used to fit the regression. Strength is assumed to vary with the power law of the relative density\n",
    "def func (x, a, b, c):\n",
    "    return a*(1-x/100)**b+c\n",
    "\n",
    "fig = plt.figure()\n",
    "\n",
    "# fit the data with a regression analysis\n",
    "data_bis = data[(data['Porosity'] > 0) & (data['Normalized strength (compression)'] > 0)]\n",
    "fitParamsIT, fitCovIT = curve_fit(func, data_bis['Porosity'], data_bis['Normalized strength (compression)'])\n",
    "porosity_table = linspace(0, 100.0, num=10000)\n",
    "\n",
    "ax = fig.add_subplot(1,1,1)\n",
    "plt.plot(data['Porosity'], data['Normalized strength (compression)'])\n",
    "plt.plot(foams['porosity'], foams['norm strength'])\n",
    "plt.plot(porosity_table, func(porosity_table, fitParamsIT[0], fitParamsIT[1], fitParamsIT[2]), marker='', linestyle=':', color='k', dashes=[0.3, 2], zorder=1, dash_capstyle='round')\n",
    "plot_upper_limit() # plot the open and close-cell model predictions\n",
    "ax.set_yscale('log')\n",
    "ax.set_xlabel('Porosity (\\%)')\n",
    "ax.set_ylabel('Compressive Strength (normalized)')\n",
    "xmin = 15\n",
    "xmax = 100\n",
    "ymin = 0.0001\n",
    "ymax = 2\n",
    "plt.ylim(ymin, ymax)\n",
    "plt.xlim(xmin, xmax)\n",
    "\n",
    "plt.tight_layout()\n",
    "fig.savefig('../figures/figure6.png')"
   ]
  },
  {
   "cell_type": "code",
   "execution_count": null,
   "metadata": {
    "collapsed": false
   },
   "outputs": [],
   "source": [
    "# parameters of the fit\n",
    "print 'Exponent of the power law: '+str(fitParamsIT[1])"
   ]
  },
  {
   "cell_type": "code",
   "execution_count": null,
   "metadata": {
    "collapsed": false
   },
   "outputs": [],
   "source": [
    "# Extract the bibliographic references used for the plot\n",
    "authors = data['Mendeley key']\n",
    "list_authors(authors)"
   ]
  },
  {
   "cell_type": "markdown",
   "metadata": {},
   "source": [
    "# Overview of the flexural strength achieved\n",
    "Figure 7 of the paper"
   ]
  },
  {
   "cell_type": "code",
   "execution_count": null,
   "metadata": {
    "collapsed": false
   },
   "outputs": [],
   "source": [
    "fig = plt.figure()\n",
    "ax = fig.add_subplot(1,1,1)\n",
    "plt.plot(data['Porosity'], data['Normalized strength (flexion)'])\n",
    "ax.set_yscale('log')\n",
    "ax.set_xlabel('Porosity (\\%)')\n",
    "ax.set_ylabel('Flexural Strength (normalized)')\n",
    "plt.ylim(0.0001, 2)\n",
    "plt.xlim(20, 90)\n",
    "\n",
    "plt.tight_layout()\n",
    "fig.savefig('../figures/figure7.png')"
   ]
  },
  {
   "cell_type": "code",
   "execution_count": null,
   "metadata": {
    "collapsed": false
   },
   "outputs": [],
   "source": [
    "# Extract the bib ref of the above plot\n",
    "dataplot = data[(data['Normalized strength (flexion)'] > 0)]\n",
    "authors = dataplot['Mendeley key']\n",
    "list_authors(authors)"
   ]
  },
  {
   "cell_type": "markdown",
   "metadata": {},
   "source": [
    "# Compressive strength vs. pore size\n",
    "Figure 8 of the paper"
   ]
  },
  {
   "cell_type": "code",
   "execution_count": null,
   "metadata": {
    "collapsed": false
   },
   "outputs": [],
   "source": [
    "fig = plt.figure()\n",
    "ax = fig.add_subplot(1,1,1)\n",
    "plt.plot(data['Pore width'], data['Normalized strength (compression)'])\n",
    "ax.set_xscale('log')\n",
    "ax.set_yscale('log')\n",
    "ax.set_xlabel('Pore size (\\mu m)')\n",
    "ax.set_ylabel('Compressive Strength (normalized)')\n",
    "plt.ylim(0.0001, 5)\n",
    "plt.xlim(2, 700)\n",
    "plt.tight_layout()\n",
    "\n",
    "# line with -1/2 slope\n",
    "poresize_table = linspace(60, 200.0, num=10000)\n",
    "plt.plot(poresize_table, 100*poresize_table**(-1/2), marker='', linestyle='-', color='black', linewidth='0.3')\n",
    "plt.plot([100, 120], [1, 1], 'k-', lw=0.3)\n",
    "plt.annotate('-1/2', (110, 1.2), fontsize='5')\n",
    "            \n",
    "fig.savefig('../figures/figure8.png')"
   ]
  },
  {
   "cell_type": "code",
   "execution_count": null,
   "metadata": {
    "collapsed": false
   },
   "outputs": [],
   "source": [
    "# Extract the bib ref of the above plot\n",
    "dataplot = data[(data['Pore width'] > 0)]\n",
    "authors = dataplot['Mendeley key']\n",
    "list_authors(authors)"
   ]
  },
  {
   "cell_type": "markdown",
   "metadata": {},
   "source": [
    "# Compressive strength and failure modes\n",
    "Figure 9 of the paper"
   ]
  },
  {
   "cell_type": "code",
   "execution_count": null,
   "metadata": {
    "collapsed": false
   },
   "outputs": [],
   "source": [
    "fig = plt.figure()\n",
    "ax = fig.add_subplot(1,1,1)\n",
    "plt.plot(cellular['Porosity'], cellular['Normalized strength (compression)'])\n",
    "plt.plot(brittle['Porosity'], brittle['Normalized strength (compression)'])\n",
    "\n",
    "ax.set_yscale('log')\n",
    "ax.set_xlabel('Porosity (\\%)')\n",
    "ax.set_ylabel('Compressive Strength (normalized)')\n",
    "plt.ylim(0.002, 1)\n",
    "plt.xlim(20, 100)\n",
    "\n",
    "plt.tight_layout()\n",
    "fig.savefig('../figures/figure9.png')"
   ]
  },
  {
   "cell_type": "code",
   "execution_count": null,
   "metadata": {
    "collapsed": false
   },
   "outputs": [],
   "source": [
    "# Extract the bib ref of the above plot\n",
    "dataplot = cellular[(cellular['Normalized strength (compression)'] > 0)]\n",
    "authors = dataplot['Mendeley key']\n",
    "\n",
    "print \"cellular:\"\n",
    "list_authors(authors)\n",
    "\n",
    "dataplot = brittle[(brittle['Normalized strength (compression)'] > 0)]\n",
    "authors = dataplot['Mendeley key']\n",
    "\n",
    "print \"brittle:\"\n",
    "list_authors(authors)"
   ]
  },
  {
   "cell_type": "markdown",
   "metadata": {},
   "source": [
    "# Compressive strength in presence and absence of ice-lenses type structural defects\n",
    "Figure 11 of the paper"
   ]
  },
  {
   "cell_type": "code",
   "execution_count": null,
   "metadata": {
    "collapsed": false
   },
   "outputs": [],
   "source": [
    "fig = plt.figure()\n",
    "ax = fig.add_subplot(1,1,1)\n",
    "plt.plot(notsureifdefects['Porosity'], notsureifdefects['Normalized strength (compression)'], color='white')\n",
    "plt.plot(nodefects['Porosity'], nodefects['Normalized strength (compression)'])\n",
    "plt.plot(defects['Porosity'], defects['Normalized strength (compression)'])\n",
    "ax.set_yscale('log')\n",
    "ax.set_xlabel('Porosity (\\%)')\n",
    "ax.set_ylabel('Compressive Strength (normalized)')\n",
    "plt.ylim(0.001, 3)\n",
    "plt.xlim(20, 100)\n",
    "\n",
    "plt.tight_layout()\n",
    "\n",
    "fig.savefig('../figures/figure11.png')"
   ]
  },
  {
   "cell_type": "code",
   "execution_count": null,
   "metadata": {
    "collapsed": false
   },
   "outputs": [],
   "source": [
    "# Extract the bib ref of the above plot\n",
    "dataplot = defects[(defects['Normalized strength (compression)'] > 0)]\n",
    "authors = dataplot['Mendeley key']\n",
    "print \"Defects: \"\n",
    "list_authors(authors)\n",
    "\n",
    "dataplot = nodefects[(nodefects['Normalized strength (compression)'] > 0)]\n",
    "authors = dataplot['Mendeley key']\n",
    "print \"No defects: \"\n",
    "list_authors(authors)\n",
    "\n",
    "dataplot = notsureifdefects[(notsureifdefects['Normalized strength (compression)'] > 0)]\n",
    "authors = dataplot['Mendeley key']\n",
    "print \"Not sure if defects: \"\n",
    "list_authors(authors)"
   ]
  },
  {
   "cell_type": "markdown",
   "metadata": {},
   "source": [
    "# Influence of the starting particle size over the compressive strength\n",
    "Figure 12 of the paper"
   ]
  },
  {
   "cell_type": "code",
   "execution_count": null,
   "metadata": {
    "collapsed": false
   },
   "outputs": [],
   "source": [
    "fig = plt.figure()\n",
    "ax = fig.add_subplot(1,1,1)\n",
    "plt.plot(data['Granulo poudre'], data['Normalized strength (compression)'])\n",
    "ax.set_yscale('log')\n",
    "ax.set_xscale('log')\n",
    "ax.set_xlabel('Particle size (\\mu m)')\n",
    "ax.set_ylabel('Strength (normalized)')\n",
    "plt.ylim(0.001, 10)\n",
    "plt.tight_layout()\n",
    "\n",
    "# line with -1/2 slope\n",
    "poresize_table = linspace(10, 50.0, num=10000)\n",
    "plt.plot(poresize_table, 20*poresize_table**(-1/2), marker='', linestyle='-', color='black', linewidth='0.3')\n",
    "plt.plot([20, 40], [1, 1], 'k-', lw=0.3)\n",
    "plt.annotate('-1/2', (20, 1.2), fontsize='5')\n",
    "\n",
    "fig.savefig('../figures/figure12.png')"
   ]
  },
  {
   "cell_type": "code",
   "execution_count": null,
   "metadata": {
    "collapsed": false
   },
   "outputs": [],
   "source": [
    "# Extract the bibliographic references used for the plot\n",
    "dataplot = data[(data['Granulo poudre'] > 0) & (data['Normalized strength (compression)']>0)]\n",
    "authors = dataplot['Mendeley key']\n",
    "list_authors(authors)"
   ]
  },
  {
   "cell_type": "markdown",
   "metadata": {},
   "source": [
    "# Influence of the nature of the solvent over the compressive strength.\n",
    "Figure 13 of the paper"
   ]
  },
  {
   "cell_type": "code",
   "execution_count": null,
   "metadata": {
    "collapsed": false,
    "scrolled": false
   },
   "outputs": [],
   "source": [
    "fig = plt.figure(figsize = (3*figuresize, figuresize))\n",
    "\n",
    "ax = fig.add_subplot(1,3,1)\n",
    "plt.scatter(water['Porosity'], water['Normalized strength (compression)'], s=water['Pore width'], lw=0, alpha=0.3, color='#3778bf')\n",
    "ax.set_yscale('log')\n",
    "ax.set_xlabel('Porosity (\\%)')\n",
    "ax.set_ylabel('Compressive Strength (normalized)')\n",
    "plt.title('Water', fontsize=titlefontsize, weight=titleweight)\n",
    "plt.ylim(0.001, 2)\n",
    "plt.xlim(20, 100)\n",
    "\n",
    "ax = fig.add_subplot(1,3,2)\n",
    "plt.scatter(camphene['Porosity'], camphene['Normalized strength (compression)'], s=camphene['Pore width'], lw=0, alpha=0.3, color='#3778bf')\n",
    "ax.set_yscale('log')\n",
    "ax.set_xscale('log')\n",
    "ax.set_xlabel('Porosity (\\%)')\n",
    "ax.set_yticklabels([])\n",
    "plt.title('Camphene', fontsize=titlefontsize, weight=titleweight)\n",
    "plt.ylim(0.001, 2)\n",
    "plt.xlim(20, 100)\n",
    "\n",
    "ax = fig.add_subplot(1,3,3)\n",
    "plt.scatter(tba['Porosity'], tba['Normalized strength (compression)'], s=tba['Pore width'], lw=0, alpha=0.3, color='#3778bf')\n",
    "ax.set_yscale('log')\n",
    "ax.set_xlabel('Porosity (\\%)')\n",
    "ax.set_yticklabels([])\n",
    "plt.title('TBA', fontsize=titlefontsize, weight=titleweight)\n",
    "plt.ylim(0.001, 2)\n",
    "plt.xlim(20, 100)\n",
    "\n",
    "plt.tight_layout()\n",
    "\n",
    "fig.savefig('../figures/figure13.png')"
   ]
  },
  {
   "cell_type": "code",
   "execution_count": null,
   "metadata": {
    "collapsed": false
   },
   "outputs": [],
   "source": [
    "# Extract the bibliographic references used for the plot\n",
    "dataplot = water[(water['Normalized strength (compression)']>0)]\n",
    "authors = dataplot['Mendeley key']\n",
    "print \"water: \"\n",
    "list_authors(authors)\n",
    "\n",
    "dataplot = camphene[(camphene['Normalized strength (compression)']>0)]\n",
    "authors = dataplot['Mendeley key']\n",
    "print \"camphene: \"\n",
    "list_authors(authors)\n",
    "\n",
    "dataplot = tba[(tba['Normalized strength (compression)']>0)]\n",
    "authors = dataplot['Mendeley key']\n",
    "print \"tba: \"\n",
    "list_authors(authors)"
   ]
  },
  {
   "cell_type": "markdown",
   "metadata": {},
   "source": [
    "# Compressive strength: measured (all materials) vs. predicted by Ashby honeycomb out-of-plane model\n",
    "Figure 16 of the paper"
   ]
  },
  {
   "cell_type": "code",
   "execution_count": null,
   "metadata": {
    "collapsed": false
   },
   "outputs": [],
   "source": [
    "# Multipannels figure\n",
    "\n",
    "# value for the 1:1 line on the plots\n",
    "strength_table = linspace(0.1, 1000.0, num=10000)\n",
    "        \n",
    "def plot_upper_limit_honeycomb():\n",
    "    plt.plot(strength_table, strength_table, linestyle='--', linewidth='0.5', marker='', dashes=[2, 2], color='0.5', zorder=1, dash_capstyle='round', markevery='2')    \n",
    "\n",
    "f,  (ax1, ax2, ax3) = plt.subplots(3, sharex=True, sharey=True, figsize=(figuresize, 2*figuresize))\n",
    "plt.ylim(0.11, 2000)\n",
    "\n",
    "ax1.plot(water['Strength (MPa)'], water['Honeycomb_Ashby'])\n",
    "ax1.plot(defects['Strength (MPa)'], defects['Honeycomb_Ashby'])\n",
    "ax1.plot(strength_table, strength_table, linestyle='--', linewidth='0.5', marker='', dashes=[2, 2], color='0.5', zorder=1, dash_capstyle='round', markevery='2')\n",
    "ax1.set_yscale('log')\n",
    "ax1.set_xscale('log')\n",
    "ax1.set_ylabel(' ')\n",
    "closed_text = ax1.annotate(\"Water\", xy=(0.2,600), fontsize=titlefontsize, color='k')\n",
    "\n",
    "ax2.plot(camphene['Strength (MPa)'], camphene['Honeycomb_Ashby'])\n",
    "ax2.plot(strength_table, strength_table, linestyle='--', linewidth='0.5', marker='', dashes=[2, 2], color='0.5', zorder=1, dash_capstyle='round', markevery='2')\n",
    "plot_upper_limit_honeycomb()\n",
    "ax2.set_yscale('log')\n",
    "ax2.set_xscale('log')\n",
    "ax2.set_ylabel('Predicted strength (honeycomb model) (MPa)')\n",
    "closed_text = ax2.annotate(\"Camphene\", xy=(0.2,600), fontsize=titlefontsize, color='k')\n",
    "\n",
    "ax3.plot(tba['Strength (MPa)'], tba['Honeycomb_Ashby'])\n",
    "ax3.plot(strength_table, strength_table, linestyle='--', linewidth='0.5', marker='', dashes=[2, 2], color='0.5', zorder=1, dash_capstyle='round', markevery='2')\n",
    "plot_upper_limit_honeycomb()\n",
    "ax3.set_yscale('log')\n",
    "ax3.set_xscale('log')\n",
    "ax3.set_ylabel(' ')\n",
    "ax3.set_xlabel('Measured compressive strength (MPa)')\n",
    "closed_text = ax3.annotate(\"Tert-butyl alcohol\", xy=(0.2,600), fontsize=titlefontsize, color='k')\n",
    "\n",
    "plt.tight_layout()\n",
    "f.subplots_adjust(hspace=0)\n",
    "plt.setp([a.get_xticklabels() for a in f.axes[:-1]], visible=False)\n",
    "\n",
    "f.savefig('../figures/figure16.png')"
   ]
  },
  {
   "cell_type": "code",
   "execution_count": null,
   "metadata": {
    "collapsed": false
   },
   "outputs": [],
   "source": [
    "# Extract the bib ref of the above plot\n",
    "data_water = water[(water['Strength (MPa)'] > 0) & (water['Honeycomb_Ashby'] > 0)]\n",
    "data_camphene = camphene[(camphene['Strength (MPa)'] > 0) & (camphene['Honeycomb_Ashby'] > 0)]\n",
    "data_tba = tba[(tba['Strength (MPa)'] > 0) & (tba['Honeycomb_Ashby'] > 0)]\n",
    "\n",
    "authors = data_water['Mendeley key']\n",
    "print 'Water: '\n",
    "list_authors(authors)\n",
    "\n",
    "authors = data_camphene['Mendeley key']\n",
    "print 'Camphene: '\n",
    "list_authors(authors)\n",
    "\n",
    "authors = data_tba['Mendeley key']\n",
    "print 'TBA: '\n",
    "list_authors(authors)"
   ]
  },
  {
   "cell_type": "code",
   "execution_count": null,
   "metadata": {
    "collapsed": false
   },
   "outputs": [],
   "source": [
    "#%install_ext http://raw.github.com/jrjohansson/version_information/master/version_information.py\n",
    "# you need to run the line above only once\n",
    "%load_ext version_information\n",
    "%reload_ext version_information\n",
    "\n",
    "%version_information numpy, scipy, matplotlib"
   ]
  },
  {
   "cell_type": "markdown",
   "metadata": {},
   "source": [
    "# Acknowledgements\n",
    "The research leading to these results has received funding from the European Research Council under the European Community's Seventh Framework Programme (FP7/2007-2013) Grant Agreement no. 278004 (project FreeCo)"
   ]
  }
 ],
 "metadata": {
  "celltoolbar": "Raw Cell Format",
  "kernelspec": {
   "display_name": "Python 3",
   "language": "python",
   "name": "python3"
  },
  "language_info": {
   "codemirror_mode": {
    "name": "ipython",
    "version": 3
   },
   "file_extension": ".py",
   "mimetype": "text/x-python",
   "name": "python",
   "nbconvert_exporter": "python",
   "pygments_lexer": "ipython3",
   "version": "3.6.0"
  }
 },
 "nbformat": 4,
 "nbformat_minor": 0
}

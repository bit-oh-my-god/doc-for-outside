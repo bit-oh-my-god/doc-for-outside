{
 "cells": [
  {
   "cell_type": "markdown",
   "metadata": {},
   "source": [
    "# Abstract"
   ]
  },
  {
   "cell_type": "markdown",
   "metadata": {},
   "source": [
    "# overview"
   ]
  },
  {
   "cell_type": "markdown",
   "metadata": {},
   "source": [
    "# purpose"
   ]
  },
  {
   "cell_type": "markdown",
   "metadata": {},
   "source": [
    "The main purpose of this paper is comparing the performance of two routing algorithm, \n",
    "time-expanded graph routing(or space-time graph)<cite data-cite=\"Merugu2004\"></cite> and \n",
    "contact graph routing<cite data-cite=\"birrane2012analysis\"></cite> in a networking simulation framework, ns3.\n",
    "To achieve that, we implement a dtn software with the most fundamental \n",
    "feature like 'carry and delivery', 'neighbor finding', 'retransmission' etc.\n",
    "This simulation would be able to let later user to define their node-moving senario and bundle schedule plan."
   ]
  },
  {
   "cell_type": "markdown",
   "metadata": {},
   "source": [
    "# simulation module"
   ]
  },
  {
   "cell_type": "markdown",
   "metadata": {},
   "source": [
    "## Time-expanded graph module"
   ]
  },
  {
   "cell_type": "markdown",
   "metadata": {},
   "source": [
    "## Contact graph module"
   ]
  },
  {
   "cell_type": "markdown",
   "metadata": {},
   "source": [
    "## Simulation procedure"
   ]
  },
  {
   "cell_type": "markdown",
   "metadata": {},
   "source": [
    "### Following is how this simulation is structed:\n",
    "![Figure-1](./0022.png \"procedure of simulation\")\n",
    "                                                \n",
    "As noted in the graph, this simulation used an outside file to define node-moving in ns3, and prepare a node-moving info file for dtn to generate contact graph and time-expanded graph. After ns3 simulator stopped, the raw log file would be parsed to get simulation result for us.\n",
    "\n",
    "### Following is how these senario is structed:\n",
    "\n",
    "| senario name  | time    | random bundle plan |\n",
    "| ------------- |:-------:| ------------------:|\n",
    "| line          | 802     |  manual plan |\n",
    "| cycle         | 802     |  manual plan |\n",
    "| random        | 802     |  random plan |\n",
    "| random2       | 802     |  random plan |\n",
    "\n",
    "The difference between 'random' and 'random2' senario is the max distance of these nodes, where the max distance of 'random2' is twice as 'random'."
   ]
  },
  {
   "cell_type": "markdown",
   "metadata": {},
   "source": [
    "# analysis of simulation result\n",
    "\n",
    "### Following is delivery success rate and average delivery delay\n",
    "\n",
    "![Figure-1](./0321.png \"procedure of simulation\")\n",
    "![Figure-1](./0322.png \"procedure of simulation\")\n",
    "\n",
    "### Following is the a graph to visualize the maintain time for each task bundle identified by seqence number on hop nodes.\n",
    "\n",
    "![Figure-1](./0323.png \"procedure of simulation\")"
   ]
  },
  {
   "cell_type": "markdown",
   "metadata": {},
   "source": [
    "# conclusion"
   ]
  }
 ],
 "metadata": {
  "celltoolbar": "Raw Cell Format",
  "kernelspec": {
   "display_name": "Python 3",
   "language": "python",
   "name": "python3"
  },
  "language_info": {
   "codemirror_mode": {
    "name": "ipython",
    "version": 3
   },
   "file_extension": ".py",
   "mimetype": "text/x-python",
   "name": "python",
   "nbconvert_exporter": "python",
   "pygments_lexer": "ipython3",
   "version": "3.6.0"
  }
 },
 "nbformat": 4,
 "nbformat_minor": 2
}

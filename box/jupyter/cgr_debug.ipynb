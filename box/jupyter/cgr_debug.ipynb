{
 "cells": [
  {
   "cell_type": "code",
   "execution_count": 2,
   "metadata": {
    "collapsed": false
   },
   "outputs": [
    {
     "name": "stdout",
     "output_type": "stream",
     "text": [
      "cgr_do_new_route_times=89, entertimes=1122, reuse_route_times=9926, exhausttimes=0\n"
     ]
    }
   ],
   "source": [
    "%matplotlib notebook\n",
    "import re\n",
    "import sys\n",
    "import inspect\n",
    "from math import sqrt\n",
    "import numpy as np\n",
    "from scipy import integrate\n",
    "from matplotlib import pyplot as plt\n",
    "import matplotlib as mpl\n",
    "from matplotlib import cm\n",
    "import pandas as pd\n",
    "from mpl_toolkits.mplot3d import Axes3D\n",
    "import jsonpickle\n",
    "from matplotlib.colors import cnames\n",
    "from matplotlib import animation\n",
    "#==================================\n",
    "##################\n",
    "# define handy func\n",
    "def nums(s):\n",
    "    try:\n",
    "        return int(s)\n",
    "    except ValueError:\n",
    "        return float(s)\n",
    "################\n",
    "x_totoal_cgr_enter_count = 0\n",
    "x_cgrcount_times = 0\n",
    "x_total_cgr_reuse_optimal_count = 0\n",
    "x_total_cgr_exhaust_optimal_count = 0\n",
    "#====\n",
    "# read the result file\n",
    "simulation_result_file = open(\"../../box/dtn_simulation_result/dtnrunninglog.txt\", \"r\")\n",
    "lines = simulation_result_file.readlines();\n",
    "simulation_result_file.close()\n",
    "#====\n",
    "\n",
    "for line in lines :\n",
    "     #BundleTrace:entertimes=1times\n",
    "    r7 = re.compile(r'''BundleTrace:entertimes=(\\d+\\.*\\d*)times''', re.VERBOSE)\n",
    "    cgrcount = r7.search(line)\n",
    "    \n",
    "    #may make bad routing-2\n",
    "    r8 = re.compile(r'''may\\smake\\sbad\\srouting-2''', re.VERBOSE)\n",
    "    cgr_reuse = r8.search(line)\n",
    "    \n",
    "    #may make bad routing-1\n",
    "    r9 = re.compile(r'''may\\smake\\sbad\\srouting-1''', re.VERBOSE)\n",
    "    \n",
    "    cgr_exhaust = r9.search(line)\n",
    "    if (cgrcount) :\n",
    "        x_totoal_cgr_enter_count += int(nums(cgrcount.group(1)))\n",
    "        x_cgrcount_times += 1\n",
    "    elif cgr_reuse :\n",
    "        x_total_cgr_reuse_optimal_count += 1\n",
    "    elif cgr_exhaust :\n",
    "        x_total_cgr_exhaust_optimal_count += 1\n",
    "#===================\n",
    "print('cgr_do_new_route_times={0}, entertimes={1}, reuse_route_times={2}, exhausttimes={3}'.\n",
    "      format(x_cgrcount_times,x_totoal_cgr_enter_count,x_total_cgr_reuse_optimal_count,x_total_cgr_exhaust_optimal_count))"
   ]
  },
  {
   "cell_type": "code",
   "execution_count": null,
   "metadata": {
    "collapsed": true
   },
   "outputs": [],
   "source": []
  }
 ],
 "metadata": {
  "kernelspec": {
   "display_name": "Python 3",
   "language": "python",
   "name": "python3"
  },
  "language_info": {
   "codemirror_mode": {
    "name": "ipython",
    "version": 3
   },
   "file_extension": ".py",
   "mimetype": "text/x-python",
   "name": "python",
   "nbconvert_exporter": "python",
   "pygments_lexer": "ipython3",
   "version": "3.6.0"
  }
 },
 "nbformat": 4,
 "nbformat_minor": 2
}
